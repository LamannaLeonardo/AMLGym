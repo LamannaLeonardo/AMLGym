{
 "cells": [
  {
   "metadata": {},
   "cell_type": "markdown",
   "source": "# AMLGym benchmarks",
   "id": "eb9fb4a1a68e633"
  },
  {
   "metadata": {},
   "cell_type": "markdown",
   "source": "AMLGym comes with benchmark useful to evaluate AML algorithms based on classical planning domains from past IPCs.",
   "id": "1ac309b575ed4764"
  },
  {
   "metadata": {},
   "cell_type": "code",
   "outputs": [],
   "execution_count": null,
   "source": "!pip install amlgym",
   "id": "9bb5ad965be80b96"
  },
  {
   "cell_type": "code",
   "execution_count": null,
   "id": "initial_id",
   "metadata": {
    "collapsed": true
   },
   "outputs": [],
   "source": [
    "from amlgym.benchmarks import *\n",
    "print_domains()"
   ]
  },
  {
   "metadata": {},
   "cell_type": "markdown",
   "source": "Reference model are available for past IPC domains:",
   "id": "bf47f050c2091de8"
  },
  {
   "metadata": {},
   "cell_type": "code",
   "outputs": [],
   "execution_count": null,
   "source": [
    "domain_path = get_domain_path('blocksworld')\n",
    "print(domain_path)"
   ],
   "id": "fd36b0d1fc890673"
  },
  {
   "metadata": {},
   "cell_type": "code",
   "outputs": [],
   "execution_count": null,
   "source": [
    "domain_pddl = get_domain('blocksworld')\n",
    "print(domain_pddl)"
   ],
   "id": "9f69a6f17bb858d8"
  },
  {
   "metadata": {},
   "cell_type": "markdown",
   "source": "For every domain, a benchmark set of trajectories is provided:",
   "id": "a1140b080ac0052c"
  },
  {
   "metadata": {},
   "cell_type": "code",
   "outputs": [],
   "execution_count": null,
   "source": "get_trajectories_path('blocksworld')",
   "id": "2248b833a8b45659"
  },
  {
   "metadata": {},
   "cell_type": "markdown",
   "source": "An example of trajectories for the `blocksworld` domain is:",
   "id": "a9308a44e4025670"
  },
  {
   "metadata": {},
   "cell_type": "code",
   "outputs": [],
   "execution_count": null,
   "source": [
    "trajectory = get_trajectories('blocksworld')[0]\n",
    "print(trajectory)"
   ],
   "id": "e5bdac6da94e245d"
  },
  {
   "metadata": {},
   "cell_type": "markdown",
   "source": "Three different set of trajectories are provided for different purposes:",
   "id": "984763f6ddb08a95"
  },
  {
   "metadata": {},
   "cell_type": "code",
   "outputs": [],
   "execution_count": null,
   "source": "get_trajectories_path('blocksworld', kind='learning')  # default",
   "id": "12f5ef1b2de36f5"
  },
  {
   "metadata": {},
   "cell_type": "code",
   "outputs": [],
   "execution_count": null,
   "source": "get_trajectories_path('blocksworld', kind='learning_hard')",
   "id": "68afa680cbf94bfe"
  },
  {
   "metadata": {},
   "cell_type": "code",
   "outputs": [],
   "execution_count": null,
   "source": "get_trajectories_path('blocksworld', kind='applicability')  # evaluation",
   "id": "8fe32c6c78caebaa"
  }
 ],
 "metadata": {
  "kernelspec": {
   "display_name": "Python 3",
   "language": "python",
   "name": "python3"
  },
  "language_info": {
   "codemirror_mode": {
    "name": "ipython",
    "version": 2
   },
   "file_extension": ".py",
   "mimetype": "text/x-python",
   "name": "python",
   "nbconvert_exporter": "python",
   "pygments_lexer": "ipython2",
   "version": "2.7.6"
  }
 },
 "nbformat": 4,
 "nbformat_minor": 5
}
