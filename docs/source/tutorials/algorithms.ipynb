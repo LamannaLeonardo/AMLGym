{
 "cells": [
  {
   "metadata": {},
   "cell_type": "markdown",
   "source": "# AMLGym algorithms",
   "id": "eb9fb4a1a68e633"
  },
  {
   "metadata": {},
   "cell_type": "markdown",
   "source": "AMLGym includes several state-of-the-art algorithms for learning action models with full/partial/noisy observability.",
   "id": "1ac309b575ed4764"
  },
  {
   "metadata": {},
   "cell_type": "code",
   "outputs": [],
   "execution_count": null,
   "source": "!pip install amlgym",
   "id": "3a2c1c2a35c2e0f2"
  },
  {
   "cell_type": "code",
   "execution_count": null,
   "id": "initial_id",
   "metadata": {
    "collapsed": true
   },
   "outputs": [],
   "source": [
    "from amlgym.benchmarks import *\n",
    "from amlgym.algorithms import *\n",
    "print_algorithms()"
   ]
  },
  {
   "metadata": {},
   "cell_type": "markdown",
   "source": "## Example: learning with full observability",
   "id": "bf47f050c2091de8"
  },
  {
   "metadata": {},
   "cell_type": "markdown",
   "source": "Instantiate the SAM algorithm:",
   "id": "79155f5492207006"
  },
  {
   "metadata": {},
   "cell_type": "code",
   "outputs": [],
   "execution_count": null,
   "source": "sam = get_algorithm('SAM')",
   "id": "fd36b0d1fc890673"
  },
  {
   "metadata": {},
   "cell_type": "markdown",
   "source": "Get a benchmark domain and set of trajectories:",
   "id": "b2269aec54a3bbdf"
  },
  {
   "metadata": {},
   "cell_type": "code",
   "outputs": [],
   "execution_count": null,
   "source": [
    "domain_path = get_domain_path('blocksworld')\n",
    "traj_paths = get_trajectories_path('blocksworld')"
   ],
   "id": "9f69a6f17bb858d8"
  },
  {
   "metadata": {},
   "cell_type": "markdown",
   "source": "Learn a PDDL model:",
   "id": "cf8aec8f3208ce17"
  },
  {
   "metadata": {},
   "cell_type": "code",
   "outputs": [],
   "execution_count": null,
   "source": [
    "model = sam.learn(domain_path, traj_paths)\n",
    "print(model)"
   ],
   "id": "61ccca1a6d88ba94"
  },
  {
   "metadata": {},
   "cell_type": "markdown",
   "source": "## Example: learning with noisy observability",
   "id": "9743932cbe218fc2"
  },
  {
   "metadata": {},
   "cell_type": "markdown",
   "source": "Instantiate the NOLAM algorithm:",
   "id": "6716e7dab6fea2f5"
  },
  {
   "metadata": {},
   "cell_type": "code",
   "outputs": [],
   "execution_count": null,
   "source": "nolam = get_algorithm('NOLAM', noise=0.1)",
   "id": "5428b802bec37744"
  },
  {
   "metadata": {},
   "cell_type": "markdown",
   "source": "Get a benchmark domain and set of trajectories:",
   "id": "c4e7bae09e022dc4"
  },
  {
   "metadata": {},
   "cell_type": "code",
   "outputs": [],
   "execution_count": null,
   "source": [
    "domain_path = get_domain_path('barman')\n",
    "traj_paths = get_trajectories_path('barman')"
   ],
   "id": "e8fe833ef5eb441"
  },
  {
   "metadata": {},
   "cell_type": "markdown",
   "source": "Learn a PDDL model:",
   "id": "767927be0478cf87"
  },
  {
   "metadata": {},
   "cell_type": "code",
   "outputs": [],
   "execution_count": null,
   "source": [
    "model = nolam.learn(domain_path, traj_paths)\n",
    "print(model)"
   ],
   "id": "e118d39c95031ebb"
  }
 ],
 "metadata": {
  "kernelspec": {
   "display_name": "Python 3",
   "language": "python",
   "name": "python3"
  },
  "language_info": {
   "codemirror_mode": {
    "name": "ipython",
    "version": 2
   },
   "file_extension": ".py",
   "mimetype": "text/x-python",
   "name": "python",
   "nbconvert_exporter": "python",
   "pygments_lexer": "ipython2",
   "version": "2.7.6"
  }
 },
 "nbformat": 4,
 "nbformat_minor": 5
}
